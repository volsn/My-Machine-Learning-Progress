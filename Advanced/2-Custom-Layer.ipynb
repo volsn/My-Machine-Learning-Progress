{
 "cells": [
  {
   "cell_type": "code",
   "execution_count": 95,
   "metadata": {},
   "outputs": [],
   "source": [
    "from __future__ import absolute_import, division, print_function, unicode_literals\n",
    "\n",
    "import numpy as np\n",
    "import sys\n",
    "\n",
    "import tensorflow as tf\n",
    "from tensorflow import keras\n",
    "from tensorflow.keras import layers\n",
    "\n",
    "import matplotlib.pyplot as plt\n",
    "import pylab\n",
    "pylab.rcParams['figure.figsize'] = 7, 5"
   ]
  },
  {
   "cell_type": "code",
   "execution_count": 13,
   "metadata": {},
   "outputs": [],
   "source": [
    "layer = tf.keras.layers.Dense(10, input_shape=(None, 5))"
   ]
  },
  {
   "cell_type": "code",
   "execution_count": 14,
   "metadata": {},
   "outputs": [
    {
     "name": "stdout",
     "output_type": "stream",
     "text": [
      "WARNING:tensorflow:Layer dense_1 is casting an input tensor from dtype float64 to the layer's dtype of float32, which is new behavior in TensorFlow 2.  The layer has dtype float32 because it's dtype defaults to floatx.\n",
      "\n",
      "If you intended to run this layer in float32, you can safely ignore this warning. If in doubt, this warning is likely only an issue if you are porting a TensorFlow 1.X model to TensorFlow 2.\n",
      "\n",
      "To change all layers to have dtype float64 by default, call `tf.keras.backend.set_floatx('float64')`. To change just this layer, pass dtype='float64' to the layer constructor. If you are the author of this layer, you can disable autocasting by passing autocast=False to the base Layer constructor.\n",
      "\n"
     ]
    },
    {
     "data": {
      "text/plain": [
       "<tf.Tensor: id=67, shape=(10, 10), dtype=float32, numpy=\n",
       "array([[0., 0., 0., 0., 0., 0., 0., 0., 0., 0.],\n",
       "       [0., 0., 0., 0., 0., 0., 0., 0., 0., 0.],\n",
       "       [0., 0., 0., 0., 0., 0., 0., 0., 0., 0.],\n",
       "       [0., 0., 0., 0., 0., 0., 0., 0., 0., 0.],\n",
       "       [0., 0., 0., 0., 0., 0., 0., 0., 0., 0.],\n",
       "       [0., 0., 0., 0., 0., 0., 0., 0., 0., 0.],\n",
       "       [0., 0., 0., 0., 0., 0., 0., 0., 0., 0.],\n",
       "       [0., 0., 0., 0., 0., 0., 0., 0., 0., 0.],\n",
       "       [0., 0., 0., 0., 0., 0., 0., 0., 0., 0.],\n",
       "       [0., 0., 0., 0., 0., 0., 0., 0., 0., 0.]], dtype=float32)>"
      ]
     },
     "execution_count": 14,
     "metadata": {},
     "output_type": "execute_result"
    }
   ],
   "source": [
    "layer(np.zeros([10, 5]))"
   ]
  },
  {
   "cell_type": "code",
   "execution_count": 22,
   "metadata": {},
   "outputs": [
    {
     "data": {
      "text/plain": [
       "<tf.Variable 'dense_1/kernel:0' shape=(5, 10) dtype=float32, numpy=\n",
       "array([[ 0.12979013,  0.34936082,  0.11743969, -0.36701852, -0.41630742,\n",
       "        -0.1935587 ,  0.41698426, -0.11632597,  0.5922645 ,  0.08142054],\n",
       "       [ 0.5635398 ,  0.01603025, -0.09774065,  0.11137617,  0.13131154,\n",
       "         0.35417205, -0.16789287, -0.2778934 ,  0.39161927, -0.07140529],\n",
       "       [ 0.44506747, -0.51597047, -0.18949264, -0.05792612,  0.2784546 ,\n",
       "         0.19722027,  0.5458626 , -0.25213605, -0.04296994,  0.5016801 ],\n",
       "       [-0.2589909 ,  0.1977722 , -0.29398713, -0.11125237, -0.5226159 ,\n",
       "        -0.3078582 ,  0.30679727,  0.4924801 ,  0.01447982, -0.00605464],\n",
       "       [-0.17914036,  0.5834914 ,  0.32613277, -0.36287045, -0.61158794,\n",
       "         0.2849838 ,  0.49837786, -0.30735773, -0.37366727, -0.5059478 ]],\n",
       "      dtype=float32)>"
      ]
     },
     "execution_count": 22,
     "metadata": {},
     "output_type": "execute_result"
    }
   ],
   "source": [
    "layer.variables[0]"
   ]
  },
  {
   "cell_type": "code",
   "execution_count": 24,
   "metadata": {},
   "outputs": [
    {
     "data": {
      "text/plain": [
       "(<tf.Variable 'dense_1/kernel:0' shape=(5, 10) dtype=float32, numpy=\n",
       " array([[ 0.12979013,  0.34936082,  0.11743969, -0.36701852, -0.41630742,\n",
       "         -0.1935587 ,  0.41698426, -0.11632597,  0.5922645 ,  0.08142054],\n",
       "        [ 0.5635398 ,  0.01603025, -0.09774065,  0.11137617,  0.13131154,\n",
       "          0.35417205, -0.16789287, -0.2778934 ,  0.39161927, -0.07140529],\n",
       "        [ 0.44506747, -0.51597047, -0.18949264, -0.05792612,  0.2784546 ,\n",
       "          0.19722027,  0.5458626 , -0.25213605, -0.04296994,  0.5016801 ],\n",
       "        [-0.2589909 ,  0.1977722 , -0.29398713, -0.11125237, -0.5226159 ,\n",
       "         -0.3078582 ,  0.30679727,  0.4924801 ,  0.01447982, -0.00605464],\n",
       "        [-0.17914036,  0.5834914 ,  0.32613277, -0.36287045, -0.61158794,\n",
       "          0.2849838 ,  0.49837786, -0.30735773, -0.37366727, -0.5059478 ]],\n",
       "       dtype=float32)>,\n",
       " <tf.Variable 'dense_1/bias:0' shape=(10,) dtype=float32, numpy=array([0., 0., 0., 0., 0., 0., 0., 0., 0., 0.], dtype=float32)>)"
      ]
     },
     "execution_count": 24,
     "metadata": {},
     "output_type": "execute_result"
    }
   ],
   "source": [
    "layer.kernel, layer.bias"
   ]
  },
  {
   "cell_type": "code",
   "execution_count": null,
   "metadata": {},
   "outputs": [],
   "source": []
  },
  {
   "cell_type": "code",
   "execution_count": 44,
   "metadata": {},
   "outputs": [],
   "source": [
    "class MyDenseLayer(tf.keras.layers.Layer):\n",
    "    def __init__(self, num_outputs):\n",
    "        super(MyDenseLayer, self).__init__()\n",
    "        self.num_outputs = num_outputs\n",
    "        \n",
    "    def build(self, input_shape):\n",
    "        self.kernel = self.add_variable(\"kernel\",\n",
    "                                        shape=[int(input_shape[-1]),\n",
    "                                               self.num_outputs])\n",
    "        self.bias = self.add_variable(\"bias\",\n",
    "                                      shape=[self.num_outputs])\n",
    "        \n",
    "    def call(self, input):\n",
    "        return tf.add(tf.matmul(input, self.kernel), self.bias)\n",
    "    \n",
    "layer = MyDenseLayer(10)"
   ]
  },
  {
   "cell_type": "code",
   "execution_count": 45,
   "metadata": {},
   "outputs": [
    {
     "name": "stdout",
     "output_type": "stream",
     "text": [
      "WARNING:tensorflow:Layer my_dense_layer_7 is casting an input tensor from dtype float64 to the layer's dtype of float32, which is new behavior in TensorFlow 2.  The layer has dtype float32 because it's dtype defaults to floatx.\n",
      "\n",
      "If you intended to run this layer in float32, you can safely ignore this warning. If in doubt, this warning is likely only an issue if you are porting a TensorFlow 1.X model to TensorFlow 2.\n",
      "\n",
      "To change all layers to have dtype float64 by default, call `tf.keras.backend.set_floatx('float64')`. To change just this layer, pass dtype='float64' to the layer constructor. If you are the author of this layer, you can disable autocasting by passing autocast=False to the base Layer constructor.\n",
      "\n"
     ]
    }
   ],
   "source": [
    "_ = layer(np.zeros([10, 5]))"
   ]
  },
  {
   "cell_type": "code",
   "execution_count": 57,
   "metadata": {},
   "outputs": [
    {
     "name": "stdout",
     "output_type": "stream",
     "text": [
      "Trainable Variables:\n",
      "my_dense_layer_7/kernel:0\n",
      "my_dense_layer_7/bias:0\n"
     ]
    }
   ],
   "source": [
    "print('Trainable Variables:\\n', '\\n'.join([var.name for var in layer.trainable_variables]), sep='')"
   ]
  },
  {
   "cell_type": "code",
   "execution_count": 72,
   "metadata": {},
   "outputs": [],
   "source": [
    "class ResnetIdentityBlock(keras.Model):\n",
    "    def __init__(self, kernel_size, filters):\n",
    "        super(ResnetIdentityBlock, self).__init__(name='')\n",
    "        filters1, filters2, filters3 = filters\n",
    "        \n",
    "        self.conv2a = layers.Conv2D(filters1, (1, 1))\n",
    "        self.bn2a = layers.BatchNormalization()\n",
    "        \n",
    "        self.conv2b = layers.Conv2D(filters2, kernel_size, padding='same')\n",
    "        self.bn2b = layers.BatchNormalization()\n",
    "        \n",
    "        self.conv2c = layers.Conv2D(filters3, (1, 1))\n",
    "        self.bn2c = layers.BatchNormalization()\n",
    "        \n",
    "    def call(self, input_tensor, training=False):\n",
    "        x = self.conv2a(input_tensor)\n",
    "        x = self.bn2a(x, training=training)\n",
    "        x = tf.nn.relu(x)\n",
    "        \n",
    "        x = self.conv2b(x)\n",
    "        x = self.bn2b(x, training=training)\n",
    "        x = tf.nn.relu(x)\n",
    "        \n",
    "        x = self.conv2c(x)\n",
    "        x = self.bn2c(x, training=training)\n",
    "        \n",
    "        x += input_tensor\n",
    "        return tf.nn.relu(x)\n",
    "    \n",
    "block = ResnetIdentityBlock(1, [1, 2, 3])"
   ]
  },
  {
   "cell_type": "code",
   "execution_count": null,
   "metadata": {},
   "outputs": [],
   "source": []
  },
  {
   "cell_type": "code",
   "execution_count": 74,
   "metadata": {},
   "outputs": [
    {
     "name": "stdout",
     "output_type": "stream",
     "text": [
      "WARNING:tensorflow:Layer resnet_identity_block_5 is casting an input tensor from dtype float64 to the layer's dtype of float32, which is new behavior in TensorFlow 2.  The layer has dtype float32 because it's dtype defaults to floatx.\n",
      "\n",
      "If you intended to run this layer in float32, you can safely ignore this warning. If in doubt, this warning is likely only an issue if you are porting a TensorFlow 1.X model to TensorFlow 2.\n",
      "\n",
      "To change all layers to have dtype float64 by default, call `tf.keras.backend.set_floatx('float64')`. To change just this layer, pass dtype='float64' to the layer constructor. If you are the author of this layer, you can disable autocasting by passing autocast=False to the base Layer constructor.\n",
      "\n"
     ]
    }
   ],
   "source": [
    "_ = block(np.zeros([1, 2, 3, 3]))"
   ]
  },
  {
   "cell_type": "code",
   "execution_count": 75,
   "metadata": {},
   "outputs": [
    {
     "data": {
      "text/plain": [
       "[<tensorflow.python.keras.layers.convolutional.Conv2D at 0xb33d3a630>,\n",
       " <tensorflow.python.keras.layers.normalization_v2.BatchNormalization at 0xb33d3aa90>,\n",
       " <tensorflow.python.keras.layers.convolutional.Conv2D at 0xb33d3add8>,\n",
       " <tensorflow.python.keras.layers.normalization_v2.BatchNormalization at 0xb33d2b358>,\n",
       " <tensorflow.python.keras.layers.convolutional.Conv2D at 0xb33d2b6a0>,\n",
       " <tensorflow.python.keras.layers.normalization_v2.BatchNormalization at 0xb33d2bb70>]"
      ]
     },
     "execution_count": 75,
     "metadata": {},
     "output_type": "execute_result"
    }
   ],
   "source": [
    "block.layers"
   ]
  },
  {
   "cell_type": "code",
   "execution_count": 77,
   "metadata": {},
   "outputs": [
    {
     "data": {
      "text/plain": [
       "18"
      ]
     },
     "execution_count": 77,
     "metadata": {},
     "output_type": "execute_result"
    }
   ],
   "source": [
    "len(block.variables)"
   ]
  },
  {
   "cell_type": "code",
   "execution_count": 78,
   "metadata": {},
   "outputs": [
    {
     "name": "stdout",
     "output_type": "stream",
     "text": [
      "Model: \"resnet_identity_block_5\"\n",
      "_________________________________________________________________\n",
      "Layer (type)                 Output Shape              Param #   \n",
      "=================================================================\n",
      "conv2d_12 (Conv2D)           multiple                  4         \n",
      "_________________________________________________________________\n",
      "batch_normalization_12 (Batc multiple                  4         \n",
      "_________________________________________________________________\n",
      "conv2d_13 (Conv2D)           multiple                  4         \n",
      "_________________________________________________________________\n",
      "batch_normalization_13 (Batc multiple                  8         \n",
      "_________________________________________________________________\n",
      "conv2d_14 (Conv2D)           multiple                  9         \n",
      "_________________________________________________________________\n",
      "batch_normalization_14 (Batc multiple                  12        \n",
      "=================================================================\n",
      "Total params: 41\n",
      "Trainable params: 29\n",
      "Non-trainable params: 12\n",
      "_________________________________________________________________\n"
     ]
    }
   ],
   "source": [
    "block.summary()"
   ]
  },
  {
   "cell_type": "code",
   "execution_count": null,
   "metadata": {},
   "outputs": [],
   "source": []
  },
  {
   "cell_type": "code",
   "execution_count": 81,
   "metadata": {},
   "outputs": [
    {
     "data": {
      "text/plain": [
       "<tf.Tensor: id=2387, shape=(1, 2, 3, 3), dtype=float32, numpy=\n",
       "array([[[[0., 0., 0.],\n",
       "         [0., 0., 0.],\n",
       "         [0., 0., 0.]],\n",
       "\n",
       "        [[0., 0., 0.],\n",
       "         [0., 0., 0.],\n",
       "         [0., 0., 0.]]]], dtype=float32)>"
      ]
     },
     "execution_count": 81,
     "metadata": {},
     "output_type": "execute_result"
    }
   ],
   "source": [
    "my_seq = tf.keras.Sequential([\n",
    "    layers.Conv2D(1, (1, 1),input_shape=(None, None, 3)),\n",
    "    layers.BatchNormalization(),\n",
    "    layers.Conv2D(2, 1,padding='same'),\n",
    "    layers.BatchNormalization(),\n",
    "    layers.Conv2D(3, (1, 1)),\n",
    "    layers.BatchNormalization()\n",
    "])\n",
    "\n",
    "my_seq(tf.zeros([1, 2, 3, 3]))"
   ]
  },
  {
   "cell_type": "code",
   "execution_count": null,
   "metadata": {},
   "outputs": [],
   "source": []
  },
  {
   "cell_type": "markdown",
   "metadata": {},
   "source": [
    "## Linear Regression"
   ]
  },
  {
   "cell_type": "code",
   "execution_count": null,
   "metadata": {},
   "outputs": [],
   "source": []
  },
  {
   "cell_type": "code",
   "execution_count": 87,
   "metadata": {},
   "outputs": [
    {
     "name": "stdout",
     "output_type": "stream",
     "text": [
      "Slope: 27.273809523809526\n",
      "Bias: -26.35714285714286\n",
      "\n"
     ]
    }
   ],
   "source": [
    "## NumPy Implementation\n",
    "# Input\n",
    "x = np.array([1,2,3,4,5,6,7,8])\n",
    "y = np.array([15,32,66,45,90,153,170,200])\n",
    "\n",
    "# Slope\n",
    "m = (len(x) * np.sum(x*y) - np.sum(x) * np.sum(y)) / (len(x)*np.sum(x*x) - np.sum(x) ** 2)\n",
    "    \n",
    "# Bias\n",
    "b = (np.sum(y) - m *np.sum(x)) / len(x)\n",
    "\n",
    "print('Slope: {}\\n'.format(m), 'Bias: {}\\n'.format(b), sep='')"
   ]
  },
  {
   "cell_type": "code",
   "execution_count": 96,
   "metadata": {},
   "outputs": [
    {
     "data": {
      "image/png": "[encoded data removed]",
      "text/plain": [
       "<Figure size 504x360 with 1 Axes>"
      ]
     },
     "metadata": {
      "needs_background": "light"
     },
     "output_type": "display_data"
    }
   ],
   "source": [
    "plt.scatter(x, y)\n",
    "plt.title('Linear Regression`s Input')\n",
    "sys.stdout.flush()"
   ]
  },
  {
   "cell_type": "code",
   "execution_count": null,
   "metadata": {},
   "outputs": [],
   "source": []
  },
  {
   "cell_type": "code",
   "execution_count": 126,
   "metadata": {},
   "outputs": [],
   "source": [
    "class LinearRegressionModel(keras.Model):\n",
    "    def __init__(self):\n",
    "        super(LinearRegressionModel, self).__init__(name='')\n",
    "        \n",
    "    def call(self, input_tensor, trainable=False):\n",
    "        x = input_tensor[:,0].numpy()\n",
    "        y = input_tensor[:,1].numpy()\n",
    "        self.slope = (len(x) * np.sum(x*y) - np.sum(x) * np.sum(y)) / (len(x)*np.sum(x*x) - np.sum(x) ** 2)\n",
    "        self.bias = (np.sum(y) - m *np.sum(x)) / len(x)\n",
    "        \n",
    "        return (self.slope, self.bias)\n",
    "    \n",
    "LinearRegression = LinearRegressionModel()"
   ]
  },
  {
   "cell_type": "code",
   "execution_count": 130,
   "metadata": {},
   "outputs": [],
   "source": [
    "data = [[1, 15], [2, 32], [3, 66], [4, 45], [5, 90], [6, 153], [7, 170], [8, 200]]\n",
    "input_tensor = tf.convert_to_tensor(data, dtype=tf.int32)"
   ]
  },
  {
   "cell_type": "code",
   "execution_count": 133,
   "metadata": {},
   "outputs": [
    {
     "name": "stdout",
     "output_type": "stream",
     "text": [
      "27.273809523809526 -26.35714285714286\n"
     ]
    }
   ],
   "source": [
    "m, b = LinearRegression(input_tensor)\n",
    "print(m, b)"
   ]
  },
  {
   "cell_type": "code",
   "execution_count": null,
   "metadata": {},
   "outputs": [],
   "source": []
  }
 ],
 "metadata": {
  "kernelspec": {
   "display_name": "Python 3",
   "language": "python",
   "name": "python3"
  },
  "language_info": {
   "codemirror_mode": {
    "name": "ipython",
    "version": 3
   },
   "file_extension": ".py",
   "mimetype": "text/x-python",
   "name": "python",
   "nbconvert_exporter": "python",
   "pygments_lexer": "ipython3",
   "version": "3.6.6"
  }
 },
 "nbformat": 4,
 "nbformat_minor": 2
}
